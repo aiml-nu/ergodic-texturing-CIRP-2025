{
 "cells": [
  {
   "cell_type": "code",
   "execution_count": 56,
   "metadata": {},
   "outputs": [],
   "source": [
    "import numpy as np\n",
    "import datetime"
   ]
  },
  {
   "cell_type": "markdown",
   "metadata": {},
   "source": [
    "This code generates g-code files for the CNC router to run. The router holds a robot tool and raster scans to generate desired coverages on a test surface."
   ]
  },
  {
   "cell_type": "code",
   "execution_count": 57,
   "metadata": {},
   "outputs": [],
   "source": [
    "# USER SETTINGS\n",
    "# desired_coverages = np.array([0.005, 0.01, 0.02, 0.04, 0.08]) # Proportion of each square covered in dimpled area (should be < 1), [unitless]\n",
    "desired_coverages = np.array([0.32]) # Proportion of each square covered in dimpled area (should be < 1), [unitless]\n",
    "dimple_diameter = 0.00669 # Diameter of applied dimples, [in]\n",
    "dimple_rate = 3.9         # Rate of dimple application, [Hz]\n",
    "square_side = 0.5         # Length of one side of the square area to be textured, [in]\n",
    "rapid_height = 1.0        # Safe height above the surface, [in]\n",
    "feed_height = 0.1         # Height above the surface when feeding must start, [in]"
   ]
  },
  {
   "cell_type": "code",
   "execution_count": 58,
   "metadata": {},
   "outputs": [
    {
     "name": "stdout",
     "output_type": "stream",
     "text": [
      "Design output for 1 squares. Per-square statistics are:\n",
      "Square 0,\tCoverage 32.00%,\tDimples 2275.9,\tDuration 0:09:43 [d:m:s],\tFeedrate  2.45 [in/min]\t\n",
      "Total time for calibration square production: 0:09:43 [d:m:s]\n"
     ]
    }
   ],
   "source": [
    "num_squares = desired_coverages.shape[0]        # Number of squares the user wants, [unitless]\n",
    "square_area = square_side**2                    # Area of eeach square, [in^2]\n",
    "dimple_area = 3.1415 * dimple_diameter**2 / 4   # Area of each dimple, [in^2]\n",
    "coverage_area = square_area * desired_coverages # Area the dimples should take up in each square, [in^2]\n",
    "num_dimples = coverage_area / dimple_area       # Total number of dimples in each square, [unitless]\n",
    "dimples_per_row = num_dimples**0.5              # Each row should have this many dimples, [unitless]\n",
    "dx = square_side / dimples_per_row              # Distance between successive dimples, [in]\n",
    "dt = 1 / dimple_rate                            # Time between successive dimples, [s]\n",
    "time_per_square = num_dimples / dimple_rate     # Estimated time required to achieve the desired coverage in each square, [s]\n",
    "feedrates = (dx / dt) * 60                      # Feedrate for CNC linear moves, [in/minute]\n",
    "total_time = np.sum(time_per_square)            # Total time to make the calibration squares\n",
    "\n",
    "print(\"Design output for {} squares. Per-square statistics are:\".format(int(num_squares)))\n",
    "for i in range(num_squares):\n",
    "    print(\"Square {},\".format(i), end=\"\\t\")\n",
    "    print(\"Coverage {:5.2f}%,\".format(desired_coverages[i]*100), end=\"\\t\")\n",
    "    print(\"Dimples {:.1f},\".format(num_dimples[i]),end=\"\\t\")\n",
    "    print(\"Duration {} [d:m:s],\".format(datetime.timedelta(seconds=int(time_per_square[i]))), end=\"\\t\")\n",
    "    print(\"Feedrate {:5.2f} [in/min]\".format(feedrates[i]), end=\"\\t\")\n",
    "    print()\n",
    "print(\"Total time for calibration square production: {} [d:m:s]\".format(datetime.timedelta(seconds=int(total_time))))"
   ]
  },
  {
   "cell_type": "markdown",
   "metadata": {},
   "source": [
    "Copy-paste G-Codes:\n",
    "```\n",
    "\"G00\\n\" + # rapid move\n",
    "\"G01\\n\" + # feed move\n",
    "\"G17\\n\" + # XY plane selection\n",
    "\"G20\\n\" + # inches unit system\n",
    "\"G21\\n\" + # millimeters unit system\n",
    "\"G28\\n\" + # rapid zero return\n",
    "\"G54\\n\" + # select G54 work coordinate system\n",
    "\"G90\\n\" + # absolute mode\n",
    "\"G91\\n\" + # incremental mode\n",
    "\"G94\\n\" + # feed per minute mode\n",
    "```"
   ]
  },
  {
   "cell_type": "code",
   "execution_count": 59,
   "metadata": {},
   "outputs": [],
   "source": [
    "# Create a descriptive name of the file\n",
    "path = \"Output/\"\n",
    "ending = \"\"\n",
    "for i in range(num_squares): \n",
    "    ending = ending + str(desired_coverages[i]*100) + \"_\"\n",
    "ending = ending.replace(\".\",\"p\")\n",
    "filename = \"calibration_\" + ending + \".ncd\"\n",
    "\n",
    "# The preamble is the set of general setup lines at the beginning of the program\n",
    "preamble = (\"G94\\n\" + # feed per minute mode\n",
    "            \"G17\\n\" + # XY plane selection\n",
    "            \"G20\\n\" + # inches unit system\n",
    "            \"G90\\n\" + # absolute mode\n",
    "            \"G54\\n\" + # select G54 work coordinate system\n",
    "            \"G28\\n\" + # rapid zero return\n",
    "            \"\\n\")\n",
    "\n",
    "# The first moves run after the preamble and position the tool appropriately to start the main moves\n",
    "first_moves = (\"G00 X0.0 Y0.0\\n\" + # Move to the origin (bottom left corner of the first square)\n",
    "               \"Z-{:.3f}\\n\".format(rapid_height - feed_height)       + # Rapid move down to the feed height\n",
    "               \"G01 Z-{:.3f} F5.0\\n\".format(rapid_height)            + # Set the correct feedrate and move to Z zero\n",
    "               \"\\n\")\n",
    "\n",
    "# The main moves are doing the actual dimpling\n",
    "y = 0.0 \n",
    "current_square = 0\n",
    "main_moves = \"\"\n",
    "direction = True \n",
    "\n",
    "while (current_square < num_squares):\n",
    "    feedrate = feedrates[current_square]\n",
    "    if direction: # Moving left to right\n",
    "        main_moves = main_moves + \"X{:.3f} F{:.3f}\\n\".format(square_side,feedrate)\n",
    "        direction = False\n",
    "    else: # Moving right to left\n",
    "        main_moves = main_moves + \"X0.0 F{:.3f}\\n\".format(feedrate)\n",
    "        direction = True\n",
    "    y = y + dx[current_square]\n",
    "    main_moves = main_moves + \"Y{:.3f} F{:.3f}\\n\".format(y,feedrate)\n",
    "    current_square = np.floor(y / square_side).astype(int)\n",
    "main_moves = main_moves + \"\\n\"\n",
    "\n",
    "# The last moves pick the tool up and return it to the correct starting location\n",
    "last_moves = (\"G00 Z0.0\\n\" + # Rapid move the tool up to clear the workpiece\n",
    "              \"X0.0 Y0.0\")   # Return to origin"
   ]
  },
  {
   "cell_type": "code",
   "execution_count": 60,
   "metadata": {},
   "outputs": [],
   "source": [
    "with open(path+filename,\"w\") as file:\n",
    "    file.write(preamble)\n",
    "    file.write(first_moves)\n",
    "    file.write(main_moves)\n",
    "    file.write(last_moves)"
   ]
  }
 ],
 "metadata": {
  "kernelspec": {
   "display_name": "Python 3",
   "language": "python",
   "name": "python3"
  },
  "language_info": {
   "codemirror_mode": {
    "name": "ipython",
    "version": 3
   },
   "file_extension": ".py",
   "mimetype": "text/x-python",
   "name": "python",
   "nbconvert_exporter": "python",
   "pygments_lexer": "ipython3",
   "version": "3.12.0"
  }
 },
 "nbformat": 4,
 "nbformat_minor": 2
}
